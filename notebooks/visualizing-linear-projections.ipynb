{
 "cells": [
  {
   "cell_type": "markdown",
   "metadata": {
    "id": "HlMZgB5EnDUj"
   },
   "source": [
    "In this notebook, we'll visualize the linear projections learned by the Vision Transformer family of models."
   ]
  },
  {
   "cell_type": "code",
   "execution_count": null,
   "metadata": {
    "colab": {
     "base_uri": "https://localhost:8080/"
    },
    "id": "P8yA-21endnx",
    "outputId": "c1562811-cb5b-4299-cca0-384492e6abf5"
   },
   "outputs": [],
   "source": [
    "# ViT B-16; ImageNet-1k validation top-1 accuracy: 84.017%\n",
    "!gsutil cp gs://vit_models/augreg/B_16-i21k-300ep-lr_0.001-aug_medium2-wd_0.03-do_0.0-sd_0.0--imagenet2012-steps_20k-lr_0.03-res_224.npz .\n",
    "\n",
    "# ViT L-16; ImageNet-1k validation top-1 accuracy: 85.716%\n",
    "!gsutil cp gs://vit_models/augreg/L_16-i21k-300ep-lr_0.001-aug_medium1-wd_0.1-do_0.1-sd_0.1--imagenet2012-steps_20k-lr_0.01-res_224.npz ."
   ]
  },
  {
   "cell_type": "markdown",
   "metadata": {
    "id": "24WZEKsypCd3"
   },
   "source": [
    "## Imports"
   ]
  },
  {
   "cell_type": "code",
   "execution_count": null,
   "metadata": {
    "id": "vnj1e-WAm81u"
   },
   "outputs": [],
   "source": [
    "import tensorflow as tf\n",
    "import numpy as np\n",
    "import torch\n",
    "\n",
    "import matplotlib.pyplot as plt\n",
    "\n",
    "from sklearn.preprocessing import MinMaxScaler\n",
    "from sklearn.decomposition import PCA"
   ]
  },
  {
   "cell_type": "markdown",
   "metadata": {
    "id": "40UUTm1iqiX7"
   },
   "source": [
    "## Utilities"
   ]
  },
  {
   "cell_type": "code",
   "execution_count": null,
   "metadata": {
    "id": "R0cx84iGnWlZ"
   },
   "outputs": [],
   "source": [
    "def load_jax_params(local_path: str):\n",
    "    with open(local_path, \"rb\") as f:\n",
    "        params_jax = np.load(f)\n",
    "        params_jax = dict(zip(params_jax.keys(), params_jax.values()))\n",
    "    return params_jax\n",
    "\n",
    "\n",
    "def scale_projections(projections: np.ndarray):\n",
    "    projection_dim = projections.shape[-1]\n",
    "    patch_h, patch_w, patch_channels = projections.shape[:-1]\n",
    "\n",
    "    scaled_projections = MinMaxScaler().fit_transform(\n",
    "        projections.reshape(-1, projection_dim)\n",
    "    )\n",
    "    scaled_projections = scaled_projections.reshape(\n",
    "        patch_h, patch_w, patch_channels, -1\n",
    "    )\n",
    "    return scaled_projections\n",
    "\n",
    "\n",
    "def display_projections(scaled_projections: np.ndarray, save_plot=None):\n",
    "    fig, axes = plt.subplots(nrows=8, ncols=16, figsize=(13, 8))\n",
    "    img_count = 0\n",
    "    limit = 128\n",
    "\n",
    "    for i in range(8):\n",
    "        for j in range(16):\n",
    "            if img_count < limit:\n",
    "                axes[i, j].imshow(scaled_projections[..., img_count])\n",
    "                axes[i, j].axis(\"off\")\n",
    "                img_count += 1\n",
    "\n",
    "    fig.tight_layout()\n",
    "\n",
    "    if save_plot:\n",
    "        fig.savefig(save_plot, dpi=300, bbox_inches=\"tight\")"
   ]
  },
  {
   "cell_type": "markdown",
   "metadata": {
    "id": "4KpHsJnLr6Pm"
   },
   "source": [
    "## ViT B/16"
   ]
  },
  {
   "cell_type": "code",
   "execution_count": null,
   "metadata": {
    "colab": {
     "base_uri": "https://localhost:8080/",
     "height": 756
    },
    "id": "VgqmTyINpA_l",
    "outputId": "6730bf0d-ddc0-4c0e-bf86-2b34e70b7170"
   },
   "outputs": [],
   "source": [
    "b16_params = load_jax_params(\n",
    "    \"B_16-i21k-300ep-lr_0.001-aug_medium2-wd_0.03-do_0.0-sd_0.0--imagenet2012-steps_20k-lr_0.03-res_224.npz\"\n",
    ")\n",
    "scaled_projections = scale_projections(b16_params[\"embedding/kernel\"])\n",
    "display_projections(scaled_projections)"
   ]
  },
  {
   "cell_type": "markdown",
   "metadata": {
    "id": "1_Lalu5rr8PP"
   },
   "source": [
    "## ViT L/16"
   ]
  },
  {
   "cell_type": "code",
   "execution_count": null,
   "metadata": {
    "colab": {
     "base_uri": "https://localhost:8080/",
     "height": 704
    },
    "id": "H8t9wLvyqmCP",
    "outputId": "70784f97-b46b-4122-ef59-cc0b062c70ab"
   },
   "outputs": [],
   "source": [
    "l16_params = load_jax_params(\n",
    "    \"L_16-i21k-300ep-lr_0.001-aug_medium1-wd_0.1-do_0.1-sd_0.1--imagenet2012-steps_20k-lr_0.01-res_224.npz\"\n",
    ")\n",
    "scaled_projections = scale_projections(l16_params[\"embedding/kernel\"])\n",
    "display_projections(scaled_projections)"
   ]
  },
  {
   "cell_type": "markdown",
   "metadata": {
    "id": "6gO-HVIvr9oK"
   },
   "source": [
    "## DINO B/16"
   ]
  },
  {
   "cell_type": "code",
   "execution_count": null,
   "metadata": {
    "colab": {
     "base_uri": "https://localhost:8080/",
     "height": 617
    },
    "id": "g_-bZ05_r-4w",
    "outputId": "07b1feca-2b42-45d1-f56c-53205cbcef38"
   },
   "outputs": [],
   "source": [
    "dino_b16 = torch.hub.load(\"facebookresearch/dino:main\", \"dino_vitb16\")\n",
    "projections = (\n",
    "    dino_b16.state_dict()[\"patch_embed.proj.weight\"].numpy().transpose(2, 3, 1, 0)\n",
    ")\n",
    "scaled_projections = scale_projections(projections)\n",
    "display_projections(scaled_projections)"
   ]
  },
  {
   "cell_type": "markdown",
   "metadata": {
    "id": "tWhY-W54tOUv"
   },
   "source": [
    "## Observations\n",
    "\n",
    "* While it's not 100% clear what the projection filters have learned but they do seem to form plausible basis functions as also investigated in the [original ViT paper](https://arxiv.org/abs/2010.11929). \n",
    "* Supervised pre-trained ViT B/16 and L/16 have differences in the filters they have learned. DINO pre-trained (self-supervised) ViT B/16 seems to have some immediate differences in the learned filters as well. "
   ]
  }
 ],
 "metadata": {
  "colab": {
   "collapsed_sections": [],
   "name": "visualizing-linear-projections.ipynb",
   "provenance": []
  },
  "kernelspec": {
   "display_name": "Python 3",
   "language": "python",
   "name": "python3"
  },
  "language_info": {
   "codemirror_mode": {
    "name": "ipython",
    "version": 3
   },
   "file_extension": ".py",
   "mimetype": "text/x-python",
   "name": "python",
   "nbconvert_exporter": "python",
   "pygments_lexer": "ipython3",
   "version": "3.8.2"
  }
 },
 "nbformat": 4,
 "nbformat_minor": 1
}
