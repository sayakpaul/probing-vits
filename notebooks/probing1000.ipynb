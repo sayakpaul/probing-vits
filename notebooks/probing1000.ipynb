{
  "nbformat": 4,
  "nbformat_minor": 0,
  "metadata": {
    "colab": {
      "name": "probing-thought-exp.ipynb",
      "provenance": [],
      "collapsed_sections": [],
      "machine_shape": "hm"
    },
    "kernelspec": {
      "name": "python3",
      "display_name": "Python 3"
    },
    "language_info": {
      "name": "python"
    },
    "accelerator": "GPU"
  },
  "cells": [
    {
      "cell_type": "markdown",
      "source": [
        "# Introduction\n",
        "\n",
        "In this notebook we probe into the ViT attention weights."
      ],
      "metadata": {
        "id": "sR8zW9qDql2q"
      }
    },
    {
      "cell_type": "code",
      "source": [
        "!pip install --upgrade gdown -qq\n",
        "!gdown --id 1oeukDq54YMV5xWFMq0j1VN25HQQAd9ei\n",
        "!unzip -q 1000_val_images_sampled.zip\n",
        "!wget -q https://storage.googleapis.com/bit_models/ilsvrc2012_wordnet_lemmas.txt -O ilsvrc2012_wordnet_lemmas.txt"
      ],
      "metadata": {
        "colab": {
          "base_uri": "https://localhost:8080/"
        },
        "id": "DZmljdmmrMtV",
        "outputId": "0f7e51cf-4cd5-4d7c-eb01-c2f65e2037d1"
      },
      "execution_count": 9,
      "outputs": [
        {
          "output_type": "stream",
          "name": "stdout",
          "text": [
            "  Installing build dependencies ... \u001b[?25l\u001b[?25hdone\n",
            "  Getting requirements to build wheel ... \u001b[?25l\u001b[?25hdone\n",
            "    Preparing wheel metadata ... \u001b[?25l\u001b[?25hdone\n",
            "  Building wheel for gdown (PEP 517) ... \u001b[?25l\u001b[?25hdone\n",
            "/usr/local/lib/python3.7/dist-packages/gdown/cli.py:131: FutureWarning: Option `--id` was deprecated in version 4.3.1 and will be removed in 5.0. You don't need to pass it anymore to use a file ID.\n",
            "  category=FutureWarning,\n",
            "Downloading...\n",
            "From: https://drive.google.com/uc?id=1oeukDq54YMV5xWFMq0j1VN25HQQAd9ei\n",
            "To: /content/1000_val_images_sampled.zip\n",
            "100% 134M/134M [00:01<00:00, 89.0MB/s]\n"
          ]
        }
      ]
    },
    {
      "cell_type": "markdown",
      "source": [
        "# Imports and Setups"
      ],
      "metadata": {
        "id": "lpMhcpWWPdt3"
      }
    },
    {
      "cell_type": "code",
      "execution_count": 10,
      "metadata": {
        "id": "2rA5vozUqf2_"
      },
      "outputs": [],
      "source": [
        "import tensorflow as tf\n",
        "import tensorflow_hub as hub\n",
        "from tensorflow import keras\n",
        "\n",
        "from PIL import Image\n",
        "from io import BytesIO\n",
        "\n",
        "import matplotlib.pyplot as plt\n",
        "from tqdm import tqdm\n",
        "import numpy as np\n",
        "import requests\n",
        "import zipfile\n",
        "import gdown\n",
        "import cv2\n",
        "import os"
      ]
    },
    {
      "cell_type": "markdown",
      "source": [
        "# Chose the ViT model"
      ],
      "metadata": {
        "id": "NMDOuhKzPhX1"
      }
    },
    {
      "cell_type": "code",
      "source": [
        "model_name = \"dino_base_patch16_224\"\n",
        "\n",
        "model_handle_map ={\n",
        "    \"vit_base_i1k_patch16_224\": \"1mbtnliT3jRb3yJUHhbItWw8unfYZw8KJ\",\n",
        "    \"vit_base_i21k_patch16_224\": \"1ApOdYe4NXxhPhJABefgZ3KVvqsQzhCL7\",\n",
        "    \"dino_base_patch16_224\":\"16_1oDm0PeCGJ_KGBG5UKVN7TsAtiRNrN\",\n",
        "    \"deit_base_patch16_224\": \"https://tfhub.dev/sayakpaul/deit_base_patch16_224/1\",\n",
        "    \"deit_base_distilled_patch16_224\": \"https://tfhub.dev/sayakpaul/deit_base_distilled_patch16_224/1\",\n",
        "}\n",
        "\n",
        "# Derive the patch size, image resolution, and class tokens from the model name.\n",
        "splits = model_name.split(\"_\")\n",
        "model_type = splits[0]\n",
        "input_resolution = int(splits[-1])\n",
        "patch_size = int(splits[-2].replace(\"patch\", \"\"))\n",
        "num_cls_tokens = 2 if \"distilled\" in model_name else 1\n",
        "\n",
        "# Get the model handle.\n",
        "model_handle = model_handle_map[model_name]\n",
        "\n",
        "print(f\"Patch Size: {patch_size}.\")\n",
        "print(f\"Input resolution: {input_resolution} x {input_resolution} x 3.\")\n",
        "print(f\"TF-Hub handle OR Drive ID: {model_handle}.\")\n",
        "print(f\"Number of class tokens: {num_cls_tokens}.\")\n",
        "print(f\"Model type: {model_type}\")"
      ],
      "metadata": {
        "colab": {
          "base_uri": "https://localhost:8080/"
        },
        "id": "_JEzN45BrEJm",
        "outputId": "1557aba0-231e-4fd6-90d8-b597f311bacc"
      },
      "execution_count": 11,
      "outputs": [
        {
          "output_type": "stream",
          "name": "stdout",
          "text": [
            "Patch Size: 16.\n",
            "Input resolution: 224 x 224 x 3.\n",
            "TF-Hub handle OR Drive ID: 16_1oDm0PeCGJ_KGBG5UKVN7TsAtiRNrN.\n",
            "Number of class tokens: 1.\n",
            "Model type: dino\n"
          ]
        }
      ]
    },
    {
      "cell_type": "markdown",
      "source": [
        "# Preprocessing the test image"
      ],
      "metadata": {
        "id": "AUrsuNs5RSYb"
      }
    },
    {
      "cell_type": "code",
      "source": [
        "crop_layer = keras.layers.CenterCrop(input_resolution, input_resolution)\n",
        "norm_layer = keras.layers.Normalization(\n",
        "    mean=[0.485 * 255, 0.456 * 255, 0.406 * 255],\n",
        "    variance=[(0.229 * 255) ** 2, (0.224 * 255) ** 2, (0.225 * 255) ** 2],\n",
        ")\n",
        "rescale_layer = keras.layers.Rescaling(scale=1./127.5, offset=-1)\n",
        "\n",
        "\n",
        "def preprocess_image(image, size=input_resolution):\n",
        "    # turn the image into a numpy array and add batch dim\n",
        "    image = tf.expand_dims(image, 0)\n",
        "    \n",
        "    # if model type is vit rescale the image to [-1, 1]\n",
        "    if model_type == \"vit\":\n",
        "        image = rescale_layer(image)\n",
        "\n",
        "    # resize the image using bicubic interpolation\n",
        "    resize_size = int((256 / 224) * size)\n",
        "    image = tf.image.resize(\n",
        "        image,\n",
        "        (resize_size, resize_size),\n",
        "        method=\"bicubic\"\n",
        "    )\n",
        "\n",
        "    # crop the image\n",
        "    image = crop_layer(image)\n",
        "\n",
        "    # if model type is deit normalize the image\n",
        "    if model_type != \"vit\":\n",
        "        image = norm_layer(image)\n",
        "    \n",
        "    # return the image\n",
        "    return image.numpy()\n",
        "    \n",
        "\n",
        "def load_image_from_path(path):\n",
        "    image = Image.open(path)\n",
        "    image = np.array(image)\n",
        "    if len(image.shape) < 3:\n",
        "        image = np.tile(image[..., None], (1, 1, 3))\n",
        "    preprocessed_image = preprocess_image(image)\n",
        "    return image, preprocessed_image"
      ],
      "metadata": {
        "id": "UDvOqRj3rFKj"
      },
      "execution_count": 12,
      "outputs": []
    },
    {
      "cell_type": "markdown",
      "source": [
        "# Run inference"
      ],
      "metadata": {
        "id": "SEym7PSQRbcM"
      }
    },
    {
      "cell_type": "code",
      "source": [
        "def get_tfhub_model(model_url: str) -> tf.keras.Model:\n",
        "    inputs = tf.keras.Input((input_resolution, input_resolution, 3))\n",
        "    hub_module = hub.KerasLayer(model_url)\n",
        "    outputs, attention_weights = hub_module(inputs)\n",
        "    return tf.keras.Model(inputs, outputs=[outputs, attention_weights])\n",
        "\n",
        "\n",
        "def get_gdrive_model(model_id: str) -> tf.keras.Model:\n",
        "    model_path = gdown.download(id=model_id, quiet=False)\n",
        "    with zipfile.ZipFile(model_path, \"r\") as zip_ref:\n",
        "        zip_ref.extractall()\n",
        "    model_name = model_path.split(\".\")[0]\n",
        "    inputs = tf.keras.Input((input_resolution, input_resolution, 3))\n",
        "    model = tf.keras.models.load_model(model_name, compile=False)\n",
        "    outputs, attention_weights = model(inputs)\n",
        "    return tf.keras.Model(inputs, outputs=[outputs, attention_weights])"
      ],
      "metadata": {
        "id": "Lrvs9JVHrQ65"
      },
      "execution_count": 13,
      "outputs": []
    },
    {
      "cell_type": "code",
      "source": [
        "if len(model_handle.split(\"/\")) > 1:\n",
        "    loaded_model = get_tfhub_model(model_handle)\n",
        "else:\n",
        "    loaded_model = get_gdrive_model(model_handle)"
      ],
      "metadata": {
        "id": "H47NQFiirS5Z",
        "colab": {
          "base_uri": "https://localhost:8080/"
        },
        "outputId": "76b9cb18-0d69-422f-9a46-c96c8d7bc76d"
      },
      "execution_count": 15,
      "outputs": [
        {
          "output_type": "stream",
          "name": "stderr",
          "text": [
            "Downloading...\n",
            "From: https://drive.google.com/uc?id=16_1oDm0PeCGJ_KGBG5UKVN7TsAtiRNrN\n",
            "To: /content/vit_dino_base16.zip\n",
            "100%|██████████| 326M/326M [00:01<00:00, 246MB/s]\n"
          ]
        }
      ]
    },
    {
      "cell_type": "code",
      "source": [
        "list_images = os.listdir(\"1000_val_images_sampled\")\n",
        "list_images = [os.path.join(\"1000_val_images_sampled\", x) for x in list_images]\n",
        "\n",
        "images = list()\n",
        "preprocessed_images = list()\n",
        "for image_path in tqdm(list_images):\n",
        "    image, preprocessed_image = load_image_from_path(image_path)\n",
        "    images.append(image)\n",
        "    preprocessed_images.append(preprocessed_image[0])"
      ],
      "metadata": {
        "colab": {
          "base_uri": "https://localhost:8080/"
        },
        "id": "1CM2X9Pj2Urd",
        "outputId": "0f9f1821-4c76-4180-aaf1-7187562061c3"
      },
      "execution_count": 14,
      "outputs": [
        {
          "output_type": "stream",
          "name": "stderr",
          "text": [
            "100%|██████████| 1000/1000 [00:19<00:00, 52.54it/s]\n"
          ]
        }
      ]
    },
    {
      "cell_type": "code",
      "source": [
        "image_ds = (tf.data.Dataset.from_tensor_slices(preprocessed_images)\n",
        "    .batch(200)\n",
        "    .prefetch(tf.data.AUTOTUNE)\n",
        ")"
      ],
      "metadata": {
        "id": "NwZkF36m2WmA"
      },
      "execution_count": 16,
      "outputs": []
    },
    {
      "cell_type": "markdown",
      "source": [
        "## Mean Attention Distance\n",
        "\n",
        "Reference: https://gist.github.com/simonster/155894d48aef2bd36bd2dd8267e62391\n",
        "\n",
        "### Compute Mean Distance\n",
        "![Compute Mean Distance](https://i.imgur.com/nyuS9H9.png)"
      ],
      "metadata": {
        "id": "HVWwz60ZRrIS"
      }
    },
    {
      "cell_type": "code",
      "source": [
        "def compute_distance_matrix(patch_size, num_patches, length):\n",
        "    \"\"\"Helper function to compute distance matrix.\"\"\"\n",
        "    distance_matrix = np.zeros((num_patches, num_patches))\n",
        "    for i in range(num_patches):\n",
        "        for j in range(num_patches):\n",
        "            if i == j: # zero distance\n",
        "                continue\n",
        "\n",
        "            xi, yi = (int(i/length)), (i % length)\n",
        "            xj, yj = (int(j/length)), (j % length)\n",
        "            distance_matrix[i, j] = patch_size * np.linalg.norm([xi - xj, yi - yj])\n",
        "\n",
        "    return distance_matrix\n",
        "\n",
        "def compute_mean_attention_dist(patch_size, attention_weights):\n",
        "    # The attention_weights shape = (batch, num_heads, num_patches, num_patches)\n",
        "    attention_weights = attention_weights[..., num_cls_tokens:, num_cls_tokens:] # Removing the CLS token\n",
        "    num_patches = attention_weights.shape[-1]\n",
        "    length = int(np.sqrt(num_patches))\n",
        "    assert (length**2 == num_patches), (\"Num patches is not perfect square\")\n",
        "\n",
        "    distance_matrix = compute_distance_matrix(patch_size, num_patches, length)\n",
        "    h, w = distance_matrix.shape\n",
        "\n",
        "    distance_matrix = distance_matrix.reshape((1, 1, h, w))\n",
        "    # The attention_weights along the last axis adds to 1\n",
        "    # this is due to the fact that they are softmax of the raw logits\n",
        "    # summation of the (attention_weights * distance_matrix)\n",
        "    # should result in an average distance per token\n",
        "    mean_distances = attention_weights * distance_matrix\n",
        "    mean_distances = np.sum(mean_distances, axis=-1) # sum along last axis to get average distance per token\n",
        "    mean_distances = np.mean(mean_distances, axis=-1) # now average across all the tokens\n",
        "\n",
        "    return mean_distances"
      ],
      "metadata": {
        "id": "gW4GkITDrdw1"
      },
      "execution_count": 17,
      "outputs": []
    },
    {
      "cell_type": "code",
      "source": [
        "mean_distances = dict()\n",
        "for idx, image in tqdm(enumerate(image_ds)):\n",
        "    _, attention_score_dict = loaded_model.predict(image)\n",
        "    # Build the mean distances for every transformer block\n",
        "    for name, attention_weight in attention_score_dict.items():\n",
        "        mean_distance = compute_mean_attention_dist(\n",
        "            patch_size=patch_size,\n",
        "            attention_weights=attention_weight,\n",
        "        )\n",
        "        if idx == 0:\n",
        "            mean_distances[f\"{name}_mean_dist\"] = mean_distance\n",
        "        else:\n",
        "            mean_distances[f\"{name}_mean_dist\"] = tf.concat(\n",
        "                [mean_distance, mean_distances[f\"{name}_mean_dist\"]],\n",
        "                axis=0\n",
        "            )"
      ],
      "metadata": {
        "colab": {
          "base_uri": "https://localhost:8080/"
        },
        "id": "_J82XUcqIokm",
        "outputId": "c2487b49-0963-4acf-a725-9ba3fa4f2d99"
      },
      "execution_count": 18,
      "outputs": [
        {
          "output_type": "stream",
          "name": "stderr",
          "text": [
            "5it [01:08, 13.61s/it]\n"
          ]
        }
      ]
    },
    {
      "cell_type": "code",
      "source": [
        "# Get the number of heads from the mean distance output\n",
        "num_heads = tf.shape(mean_distances[\"transformer_block_0_att_mean_dist\"])[-1].numpy()\n",
        "\n",
        "# Print the shapes\n",
        "print(f\"Num Heads: {num_heads}\")"
      ],
      "metadata": {
        "colab": {
          "base_uri": "https://localhost:8080/"
        },
        "id": "DVhPXsnYSyQF",
        "outputId": "a207a98d-4691-4502-a5cd-ab37773f4ed1"
      },
      "execution_count": 19,
      "outputs": [
        {
          "output_type": "stream",
          "name": "stdout",
          "text": [
            "Num Heads: 12\n"
          ]
        }
      ]
    },
    {
      "cell_type": "code",
      "source": [
        "for key, value in mean_distances.items():\n",
        "    mean_distances[key] = tf.reduce_mean(value, axis=0, keepdims=True)"
      ],
      "metadata": {
        "id": "6PKZvtDKK0AC"
      },
      "execution_count": 20,
      "outputs": []
    },
    {
      "cell_type": "markdown",
      "source": [
        "## Visualize the mean distances"
      ],
      "metadata": {
        "id": "iqNJuPs7SKyT"
      }
    },
    {
      "cell_type": "code",
      "source": [
        "plt.figure(figsize=(10, 10))\n",
        "\n",
        "for idx in range(len(mean_distances)):\n",
        "    mean_distance = mean_distances[f\"transformer_block_{idx}_att_mean_dist\"]\n",
        "    x = [idx] * num_heads\n",
        "    y = mean_distance[0, :]\n",
        "    plt.scatter(x=x, y=y, label=f\"attention_{idx}\")\n",
        "\n",
        "plt.legend(loc=\"lower right\")\n",
        "plt.title(model_name)\n",
        "plt.show()"
      ],
      "metadata": {
        "colab": {
          "base_uri": "https://localhost:8080/",
          "height": 607
        },
        "id": "BpfokYqwzYzI",
        "outputId": "4546c222-3d3d-4198-cfa0-331976af1f63"
      },
      "execution_count": 21,
      "outputs": [
        {
          "output_type": "display_data",
          "data": {
            "text/plain": [
              "<Figure size 720x720 with 1 Axes>"
            ],
            "image/png": "[encoded data removed]"
          },
          "metadata": {
            "needs_background": "light"
          }
        }
      ]
    }
  ]
}